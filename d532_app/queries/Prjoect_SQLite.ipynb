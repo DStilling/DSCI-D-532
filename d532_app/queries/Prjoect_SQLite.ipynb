{
  "nbformat": 4,
  "nbformat_minor": 0,
  "metadata": {
    "kernelspec": {
      "display_name": "Python 3",
      "language": "python",
      "name": "python3"
    },
    "language_info": {
      "codemirror_mode": {
        "name": "ipython",
        "version": 3
      },
      "file_extension": ".py",
      "mimetype": "text/x-python",
      "name": "python",
      "nbconvert_exporter": "python",
      "pygments_lexer": "ipython3",
      "version": "3.7.1"
    },
    "colab": {
      "name": "Prjoect SQLite.ipynb",
      "provenance": [],
      "collapsed_sections": [
        "8VezcfSOLhQQ"
      ]
    }
  },
  "cells": [
    {
      "cell_type": "markdown",
      "metadata": {
        "id": "uVQRfEfYD5p7"
      },
      "source": [
        "# Project Practice Queries"
      ]
    },
    {
      "cell_type": "markdown",
      "metadata": {
        "id": "n-ly2I8jD5p8"
      },
      "source": [
        "This notebook was created to test the database made for the final DB class project.\n",
        "\n",
        "The link to this public notebook on Google Colab can be found here:\n",
        "\n",
        "https://colab.research.google.com/drive/1hTSyw0yHpfPr25_G-eDxQdv5GyJU7UNw?usp=sharing"
      ]
    },
    {
      "cell_type": "code",
      "metadata": {
        "id": "97Hh6TzaD5p9"
      },
      "source": [
        "# Import Relevant Python Libraries\n",
        "import sqlite3\n",
        "import pandas as pd"
      ],
      "execution_count": 1,
      "outputs": []
    },
    {
      "cell_type": "markdown",
      "metadata": {
        "id": "VuDaK1mzD5p9"
      },
      "source": [
        "### STEP 1. Connect to the database."
      ]
    },
    {
      "cell_type": "code",
      "metadata": {
        "id": "QV2zxmnSD5p-"
      },
      "source": [
        "conn = sqlite3.connect('project.db') # Database of joined tables from Kaggle\n",
        "# conn = sqlite3.connect('new.db') # New Database\n",
        "c = conn.cursor()"
      ],
      "execution_count": null,
      "outputs": []
    },
    {
      "cell_type": "markdown",
      "metadata": {
        "id": "M2ew4F-cHQc3"
      },
      "source": [
        "### Optional:  Create tables if they don't exist."
      ]
    },
    {
      "cell_type": "code",
      "source": [
        "# To create the database, the previous CSV files will be loaded into an SQL database\n",
        "\n",
        "# read_ratings = pd.read_csv(r'ratings_project.csv')\n",
        "# read_ratings.to_sql('ratings', conn, if_exists='append', index = False) # Insert the values from the csv file into the table\n",
        "\n",
        "# read_movieInfo = pd.read_csv(r'movieInfo_project.csv')\n",
        "# read_movieInfo.to_sql('movieInfo', conn, if_exists='append', index = False) # Insert the values from the csv file into the table"
      ],
      "metadata": {
        "id": "UmxA6a3dcVVy"
      },
      "execution_count": null,
      "outputs": []
    },
    {
      "cell_type": "markdown",
      "metadata": {
        "id": "fBUOTOlZD5p-"
      },
      "source": [
        "### STEP 2. Review tables in your database\n",
        "\n",
        "Every **SQLite database** has a special table named _sqlite_master_, which is a system created table"
      ]
    },
    {
      "cell_type": "code",
      "metadata": {
        "id": "pqZJQqIQD5p-"
      },
      "source": [
        "c.execute(\"select * from SQLite_master;\") # if you do not need to write sql code on multiple lines, you can use single/double quotes\n",
        "\n",
        "tables = c.fetchall()\n",
        "\n",
        "print(\"Listing tables and indices from main database:\")\n",
        "\n",
        "for table in tables:\n",
        "        print(table)\n",
        "        print(\"Table Name: %s\"%(table[2]))"
      ],
      "execution_count": null,
      "outputs": []
    },
    {
      "cell_type": "markdown",
      "metadata": {
        "id": "VtFZ3RKHH3k3"
      },
      "source": [
        "##### Let's check the specific column names from the table ratings."
      ]
    },
    {
      "cell_type": "code",
      "metadata": {
        "id": "YAj6vCbBD5qC"
      },
      "source": [
        "c.execute(\"SELECT * FROM ratings\")\n",
        "colnames = c.description\n",
        "\n",
        "colnames_list = []\n",
        "for row in colnames:\n",
        "    colnames_list.append(row[0])\n",
        "\n",
        "print(colnames_list)"
      ],
      "execution_count": null,
      "outputs": []
    },
    {
      "cell_type": "code",
      "metadata": {
        "id": "_dKVt_QqD5qC"
      },
      "source": [
        "c.execute(\"SELECT * FROM movieInfo\")\n",
        "colnames = c.description\n",
        "\n",
        "colnames_list = []\n",
        "for row in colnames:\n",
        "    colnames_list.append(row[0])\n",
        "\n",
        "print(colnames_list)"
      ],
      "execution_count": null,
      "outputs": []
    },
    {
      "cell_type": "markdown",
      "source": [
        "**Optional (Not Implemented)**: Let's check the specific column names from the table ratings."
      ],
      "metadata": {
        "id": "8VezcfSOLhQQ"
      }
    },
    {
      "cell_type": "code",
      "source": [
        "# SQLite Query to check for a primary key\n",
        "c.execute('''\n",
        "PRAGMA table_info(\"movieInfo\")\n",
        ";\n",
        "''')\n",
        "\n",
        "# Display Result\n",
        "colnames = c.description\n",
        "colnames_list = []\n",
        "for row in colnames:\n",
        "    colnames_list.append(row[0])\n",
        "\n",
        "df = pd.DataFrame(c.fetchall(), columns=colnames_list)\n",
        "df"
      ],
      "metadata": {
        "id": "4lYhqVPNLY2V"
      },
      "execution_count": null,
      "outputs": []
    },
    {
      "cell_type": "markdown",
      "source": [
        "From this query, we can see that there is not a column designated as a Primary key designated.  This is an issue because later queries will rely on replacing values in duplicated rows."
      ],
      "metadata": {
        "id": "jw6yAEVtMNoI"
      }
    },
    {
      "cell_type": "code",
      "source": [
        "# Deisgnate a Foreign Key\n",
        "## Each user should only have a single rating per movie.  So, combined, userId and movieId, make for excellent primary key\n",
        "\n",
        "# SQLite Query\n",
        "c.execute('''\n",
        "SELECT movieInfo\n",
        "    PRIMARY KEY(userId, movieId)\n",
        ";\n",
        "''')\n",
        "\n",
        "# SQLite Query to check for a primary key\n",
        "c.execute('''\n",
        "PRAGMA table_info(\"movieInfo\")\n",
        ";\n",
        "''')\n",
        "\n",
        "# Display Result\n",
        "colnames = c.description\n",
        "colnames_list = []\n",
        "for row in colnames:\n",
        "    colnames_list.append(row[0])\n",
        "\n",
        "df = pd.DataFrame(c.fetchall(), columns=colnames_list)\n",
        "df"
      ],
      "metadata": {
        "id": "X5TmvFvDLZBV"
      },
      "execution_count": null,
      "outputs": []
    },
    {
      "cell_type": "markdown",
      "metadata": {
        "id": "kPNwXrVzD5qE"
      },
      "source": [
        "### Queries"
      ]
    },
    {
      "cell_type": "markdown",
      "metadata": {
        "id": "5FQDB0XlD5qF"
      },
      "source": [
        "**Query Type 1**: Match Genre & Display Top 5"
      ]
    },
    {
      "cell_type": "code",
      "metadata": {
        "id": "k8c0yWE3D5qF"
      },
      "source": [
        "# Match Genre & Display Top 5\n",
        "\n",
        "# SQLite Query\n",
        "c.execute('''\n",
        "SELECT userId, rating, movie_title, year \n",
        "    FROM movieInfo\n",
        "    WHERE Genres_Horror = 1\n",
        "    ORDER BY rating DESC LIMIT 5;\n",
        "''')\n",
        "\n",
        "# Display Result\n",
        "colnames = c.description   # gather collumn names from a new query\n",
        "colnames_list = []\n",
        "for row in colnames:\n",
        "    colnames_list.append(row[0])\n",
        "\n",
        "df = pd.DataFrame(c.fetchall(), columns=colnames_list)\n",
        "df"
      ],
      "execution_count": null,
      "outputs": []
    },
    {
      "cell_type": "code",
      "source": [
        "# Query for Action\n",
        "\n",
        "# SQLite Query\n",
        "c.execute('''\n",
        "SELECT userId, rating, movie_title, year \n",
        "    FROM movieInfo\n",
        "    WHERE Genres_Action = 1\n",
        "    ORDER BY rating DESC LIMIT 5;\n",
        "''')\n",
        "\n",
        "# Display Result\n",
        "colnames = c.description   # gather collumn names from a new query\n",
        "colnames_list = []\n",
        "for row in colnames:\n",
        "    colnames_list.append(row[0])\n",
        "\n",
        "df = pd.DataFrame(c.fetchall(), columns=colnames_list)\n",
        "df"
      ],
      "metadata": {
        "id": "ylVzPQItynvQ"
      },
      "execution_count": null,
      "outputs": []
    },
    {
      "cell_type": "code",
      "source": [
        "# Query for Comedy\n",
        "\n",
        "# SQLite Query\n",
        "c.execute('''\n",
        "SELECT userId, rating, movie_title, year \n",
        "    FROM movieInfo\n",
        "    WHERE Genres_Comedy = 1\n",
        "    ORDER BY rating DESC LIMIT 5;\n",
        "''')\n",
        "\n",
        "# Display Result\n",
        "colnames = c.description   # gather collumn names from a new query\n",
        "colnames_list = []\n",
        "for row in colnames:\n",
        "    colnames_list.append(row[0])\n",
        "\n",
        "df = pd.DataFrame(c.fetchall(), columns=colnames_list)\n",
        "df"
      ],
      "metadata": {
        "id": "qsdnQ8p7yn3k"
      },
      "execution_count": null,
      "outputs": []
    },
    {
      "cell_type": "code",
      "source": [
        "# Query for Drama\n",
        "\n",
        "# SQLite Query\n",
        "c.execute('''\n",
        "SELECT userId, rating, movie_title, year \n",
        "    FROM movieInfo\n",
        "    WHERE Genres_Drama = 1\n",
        "    ORDER BY rating DESC LIMIT 5;\n",
        "''')\n",
        "\n",
        "# Display Result\n",
        "colnames = c.description   # gather collumn names from a new query\n",
        "colnames_list = []\n",
        "for row in colnames:\n",
        "    colnames_list.append(row[0])\n",
        "\n",
        "df = pd.DataFrame(c.fetchall(), columns=colnames_list)\n",
        "df"
      ],
      "metadata": {
        "id": "g9pMhxsnyn_4"
      },
      "execution_count": null,
      "outputs": []
    },
    {
      "cell_type": "markdown",
      "metadata": {
        "id": "OH61cbCgD5qF"
      },
      "source": [
        "**Query Type 2**: Pull user rating history"
      ]
    },
    {
      "cell_type": "code",
      "metadata": {
        "id": "0sRPk-61D5qG"
      },
      "source": [
        "# Query and Display user history using userId\n",
        "\n",
        "# SQLite Query\n",
        "c.execute('''\n",
        "SELECT userId, rating, movie_title, year \n",
        "    FROM movieInfo\n",
        "    WHERE userId = 42\n",
        "    ORDER BY rating DESC, movie_title LIMIT 20;\n",
        "''')\n",
        "\n",
        "# Display Result\n",
        "colnames = c.description\n",
        "colnames_list = []\n",
        "for row in colnames:\n",
        "    colnames_list.append(row[0])\n",
        "\n",
        "df = pd.DataFrame(c.fetchall(), columns=colnames_list)\n",
        "df"
      ],
      "execution_count": null,
      "outputs": []
    },
    {
      "cell_type": "markdown",
      "metadata": {
        "id": "09HC6rcqD5qG"
      },
      "source": [
        "**Query Type 3**: Add Rating"
      ]
    },
    {
      "cell_type": "code",
      "metadata": {
        "id": "SVb1FonOD5qG"
      },
      "source": [
        "# Add a rating by a user\n",
        "\n",
        "# Must search by Title\n",
        "# Enter a rating\n",
        "# Enter a UserId\n",
        "\n",
        "### This will be done by copying an existing movie row, and then modifying the userId and the rating to match the current user\n",
        "### Do we care about the timestamp column?\n",
        "\n",
        "# SQLite Query to create duplicate row\n",
        "c.execute('''\n",
        "INSERT INTO movieInfo \n",
        "    SELECT * FROM movieInfo WHERE movie_title LIKE '%Temple of Doom%' LIMIT 1\n",
        ";\n",
        "''')\n",
        "\n",
        "# SQLite Query to update duplicate row with the user value and the user rating\n",
        "c.execute('''\n",
        "UPDATE movieInfo \n",
        "    SET userId = 42, rating = 4.5\n",
        "    WHERE movie_title LIKE '%Temple of Doom%' LIMIT 1\n",
        ";\n",
        "''')\n",
        "\n",
        "# Display Result\n",
        "colnames = c.description\n",
        "colnames_list = []\n",
        "for row in colnames:\n",
        "    colnames_list.append(row[0])\n",
        "\n",
        "df = pd.DataFrame(c.fetchall(), columns=colnames_list)\n",
        "df"
      ],
      "execution_count": null,
      "outputs": []
    },
    {
      "cell_type": "markdown",
      "source": [
        "# Exit by closing connection to database"
      ],
      "metadata": {
        "id": "zqaTKGp1kaUl"
      }
    },
    {
      "cell_type": "code",
      "metadata": {
        "id": "QBpjemxpD5qJ"
      },
      "source": [
        "conn.close"
      ],
      "execution_count": null,
      "outputs": []
    }
  ]
}